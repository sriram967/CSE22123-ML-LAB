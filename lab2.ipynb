{
 "cells": [
  {
   "cell_type": "code",
   "execution_count": 1,
   "id": "df38c781",
   "metadata": {},
   "outputs": [
    {
     "name": "stdout",
     "output_type": "stream",
     "text": [
      "The dimensionality is 3\n",
      "The numbers of vectors is 10\n",
      "The rank is 3\n",
      "The Cost of each product available is [[ 1.]\n",
      " [55.]\n",
      " [18.]]\n"
     ]
    }
   ],
   "source": [
    "import pandas as pd\n",
    "import numpy as nm\n",
    " \n",
    " \n",
    "data=pd.read_excel(r\"Lab Session Data.xlsx\", sheet_name='Purchase data')\n",
    " \n",
    "# data=pd.read_excel(sheet, 'Purchase data')\n",
    "A=['Candies (#)','Mangoes (Kg)','Milk Packets (#)']\n",
    "a=pd.read_excel(r\"Lab Session Data.xlsx\",usecols=A)\n",
    "C=['Payment (Rs)']\n",
    "c=pd.read_excel(r\"Lab Session Data.xlsx\",usecols=C)\n",
    " \n",
    "dimen=a.shape[1]\n",
    "vec_count=a.shape[0]\n",
    "rank=nm.linalg.matrix_rank(a)\n",
    "pseudoinv=nm.linalg.pinv(a)\n",
    "price=nm.dot(pseudoinv,c)\n",
    " \n",
    "print(\"The dimensionality is\", dimen)\n",
    "print(\"The numbers of vectors is\", vec_count)\n",
    "print(\"The rank is\", rank)\n",
    "print(\"The Cost of each product available is\", price)"
   ]
  },
  {
   "cell_type": "code",
   "execution_count": null,
   "id": "f5f71c8f",
   "metadata": {},
   "outputs": [],
   "source": []
  }
 ],
 "metadata": {
  "kernelspec": {
   "display_name": "Python 3 (ipykernel)",
   "language": "python",
   "name": "python3"
  },
  "language_info": {
   "codemirror_mode": {
    "name": "ipython",
    "version": 3
   },
   "file_extension": ".py",
   "mimetype": "text/x-python",
   "name": "python",
   "nbconvert_exporter": "python",
   "pygments_lexer": "ipython3",
   "version": "3.11.4"
  }
 },
 "nbformat": 4,
 "nbformat_minor": 5
}
